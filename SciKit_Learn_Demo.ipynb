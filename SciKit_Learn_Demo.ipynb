{
 "cells": [
  {
   "cell_type": "markdown",
   "id": "b355ae53-0e33-4052-a8b2-668ea625e130",
   "metadata": {},
   "source": [
    "# SciKit Learn Demo\n",
    "Following [this](https://scikit-learn.org/stable/tutorial/basic/tutorial.html) tutorial."
   ]
  },
  {
   "cell_type": "code",
   "execution_count": 1,
   "id": "ddef844a-a5c2-4e3c-b600-fc91f8c04a35",
   "metadata": {},
   "outputs": [],
   "source": [
    "from sklearn import datasets, svm\n",
    "from matplotlib import pyplot as plt\n",
    "from matplotlib.image import imread\n",
    "import numpy as np\n",
    "import pandas as pd"
   ]
  },
  {
   "cell_type": "markdown",
   "id": "c3139e55-4d59-4f04-8ccc-cec40fa8b7ca",
   "metadata": {},
   "source": [
    "## Supervised Learning with Classifiers\n",
    "### Example #1: Reading Handwritten Digits\n",
    "In the example below, we use the standard `digits` dataset included in SciKit-Learn and we train a classifier to recognize digits from small images. This is an example of \"supervised learning\", because all the images are labeled already. In other words, for every image in the dataset, there is a corresponding numerical label which states what the correct output should be."
   ]
  },
  {
   "cell_type": "code",
   "execution_count": 2,
   "id": "3369bd7a-6313-4d06-96af-5c96a6f9127c",
   "metadata": {},
   "outputs": [
    {
     "name": "stdout",
     "output_type": "stream",
     "text": [
      "A sample of the first 36 images of the 1797-image dataset:\n"
     ]
    },
    {
     "data": {
      "image/png": "[encoded data removed]",
      "text/plain": [
       "<Figure size 640x480 with 36 Axes>"
      ]
     },
     "metadata": {},
     "output_type": "display_data"
    }
   ],
   "source": [
    "digits = datasets.load_digits()\n",
    "#print(digits.DESCR)\n",
    "\n",
    "fig = plt.figure()\n",
    "dim = 6\n",
    "print(f'A sample of the first {dim ** 2} images of the {len(digits.images)}-image dataset:')\n",
    "for i, image in enumerate(digits.images):\n",
    "    if ( i >= dim ** 2 ):\n",
    "        break\n",
    "    ax = fig.add_subplot(dim, dim, i + 1)\n",
    "    ax.tick_params(\n",
    "        which='both',\n",
    "        labelbottom=False,\n",
    "        labelleft=False,\n",
    "        bottom=False,\n",
    "        left=False\n",
    "    )\n",
    "    ax.imshow(image)"
   ]
  },
  {
   "cell_type": "code",
   "execution_count": 3,
   "id": "c5c0e637-334e-4bc8-8560-6e4629d47e0f",
   "metadata": {},
   "outputs": [
    {
     "name": "stdout",
     "output_type": "stream",
     "text": [
      "Training the model...\n",
      "Image to predict:\n"
     ]
    },
    {
     "data": {
      "image/png": "[encoded data removed]",
      "text/plain": [
       "<Figure size 100x100 with 1 Axes>"
      ]
     },
     "metadata": {},
     "output_type": "display_data"
    },
    {
     "name": "stdout",
     "output_type": "stream",
     "text": [
      "Prediction: [8]\n"
     ]
    }
   ],
   "source": [
    "print('Training the model...')\n",
    "classifier = svm.SVC(gamma=0.001, C=100.0)\n",
    "classifier.fit(digits.data[:-1], digits.target[:-1])\n",
    "\n",
    "print('Image to predict:')\n",
    "fig = plt.figure(figsize=(1, 1))\n",
    "ax = fig.add_subplot(1, 1, 1)\n",
    "ax.tick_params(\n",
    "    which='both',\n",
    "    labelbottom=False,\n",
    "    labelleft=False,\n",
    "    bottom=False,\n",
    "    left=False\n",
    ")\n",
    "ax.imshow(digits.images[-1:][0])\n",
    "plt.show()\n",
    "\n",
    "prediction = classifier.predict(digits.data[-1:])\n",
    "print(f'Prediction: {prediction}')"
   ]
  },
  {
   "cell_type": "markdown",
   "id": "40cda05e-42ee-4e1d-a672-493ea3f30c42",
   "metadata": {},
   "source": [
    "## Example #2: Identifying Iris Species\n",
    "This is another supervised learning task. We are training another classifier on the classic iris dataset. These are physical measurements of different iris plants with labels identifying the species of iris."
   ]
  },
  {
   "cell_type": "code",
   "execution_count": 4,
   "id": "30167152-2bdb-4e18-9784-818b34c7bb3e",
   "metadata": {},
   "outputs": [
    {
     "name": "stdout",
     "output_type": "stream",
     "text": [
      "Training model...\n"
     ]
    },
    {
     "data": {
      "text/plain": [
       "array(['setosa', 'setosa', 'setosa'], dtype='<U10')"
      ]
     },
     "execution_count": 4,
     "metadata": {},
     "output_type": "execute_result"
    }
   ],
   "source": [
    "iris = datasets.load_iris()\n",
    "#print(iris.DESCR)\n",
    "\n",
    "classifier = svm.SVC()\n",
    "print('Training model...')\n",
    "classifier.fit(iris.data, iris.target_names[iris.target]) # The connection between the names and numbers here is a bit beyond me, but it does work.\n",
    "classifier.predict(iris.data[:3])"
   ]
  },
  {
   "cell_type": "markdown",
   "id": "3900ed83-fec8-4216-a781-29fc403d3d32",
   "metadata": {},
   "source": [
    "## Example #3: My Own Handwriting\n",
    "In this example, I have created a labeled dataset from my own handwriting and trained the model on it.\n",
    "\n",
    "After some trial and error of trying to get the data from the paper into an image, I found that the following process produced the best results for me.\n",
    " - Digitize the paper sheet with a scanner.\n",
    " - Open the scan in GIMP and perform the following processing (it's possible this could be automated with GIMP scripting or PIL or something):\n",
    "     - Crop the image such that the total length and height (in pixels) are even multiples of the number of samples in that dimension, i.e. if I have 30 columns of samples, I crop the image so that its width, in pixels, is an integer multiple of 30.\n",
    "     - Color to grayscale.\n",
    "     - Adjust contrast to max, so the resulting pixel values are either `0.0` or `1.0`.\n",
    "     - Select cell borders with magic select tool, and fill the selection with the background color.\n",
    "     - Export image to a grayscale format, i.e. \"8bpc GRAY\".\n",
    "\n",
    "Digitizing the image with a scanner did a much better job of keeping everything nice and square than trying to take a picture of the page with my phone camera. Then, once I got the processed image into Python, I just had to cut it into chunks and train the model."
   ]
  },
  {
   "cell_type": "code",
   "execution_count": 5,
   "id": "ef38a40b-3af1-43c6-9167-74f41e822a49",
   "metadata": {},
   "outputs": [
    {
     "name": "stdout",
     "output_type": "stream",
     "text": [
      "Image size: (851, 660)\n",
      "Rows: 37.0, Cols: 30.0\n",
      "A sample of the first 100 images of the dataset:\n"
     ]
    },
    {
     "data": {
      "image/png": "[encoded data removed]",
      "text/plain": [
       "<Figure size 640x480 with 100 Axes>"
      ]
     },
     "metadata": {},
     "output_type": "display_data"
    }
   ],
   "source": [
    "raw_image = pd.DataFrame(imread('.\\\\Page0001.png'))\n",
    "print('Image size:', raw_image.shape)\n",
    "\n",
    "square_h = 23\n",
    "square_w = 22\n",
    "print(f'Rows: {raw_image.shape[0] / square_h}, Cols: {raw_image.shape[1] / square_w}')\n",
    "number_of_squares = (raw_image.shape[0] * raw_image.shape[1]) // (square_w * square_h)\n",
    "squares = np.ndarray((number_of_squares, square_h, square_w), dtype='float32')\n",
    "labels = np.ndarray((number_of_squares), dtype='int')\n",
    "\n",
    "for i_row in range(raw_image.shape[0] // square_h):\n",
    "    square_top = i_row * square_h\n",
    "    square_bottom = (i_row + 1) * square_h\n",
    "    \n",
    "    for i_col in range(raw_image.shape[1] // square_w):\n",
    "        square_left = i_col * square_w\n",
    "        square_right = (i_col + 1) * square_w\n",
    "        \n",
    "        square_px = raw_image.iloc[square_top:square_bottom, square_left:square_right]\n",
    "\n",
    "        #print(f'Col: {i_col} | {square_left}, {square_right}, {square_top}, {square_bottom}')\n",
    "        \n",
    "        i_square = i_row * (raw_image.shape[1] // square_w) + i_col\n",
    "        squares[i_square] = square_px\n",
    "        labels[i_square] = (i_col // 3 + 1) % 10\n",
    "     \n",
    "#print('Squares array:', squares.shape)\n",
    "#print('Labels array: ', labels.shape)\n",
    "\n",
    "fig = plt.figure()\n",
    "dim = 10\n",
    "print(f'A sample of the first {dim ** 2} images of the dataset:')\n",
    "for i, square in enumerate(squares):\n",
    "    if ( i >= dim ** 2 ):\n",
    "        break\n",
    "    ax = fig.add_subplot(dim, dim, i + 1)\n",
    "    ax.tick_params(\n",
    "        which='both',\n",
    "        labelbottom=False,\n",
    "        labelleft=False,\n",
    "        bottom=False,\n",
    "        left=False\n",
    "    )\n",
    "    ax.imshow(square)"
   ]
  },
  {
   "cell_type": "code",
   "execution_count": 6,
   "id": "4918e6c3-0617-40d5-98b8-52da68c8ed93",
   "metadata": {},
   "outputs": [
    {
     "name": "stdout",
     "output_type": "stream",
     "text": [
      "Predictions: [1 1 1 2 2 2 3 3 3 4 4 4 5 5 5 6 6 6 7 7 7 8 8 8 9 9 9 0 0 0]\n",
      "Labels:      [1 1 1 2 2 2 3 3 3 4 4 4 5 5 5 6 6 6 7 7 7 8 8 8 9 9 9 0 0 0]\n"
     ]
    }
   ],
   "source": [
    "classifier_1 = svm.SVC()\n",
    "reshaped_squares = squares.reshape(squares.shape[0], squares.shape[1] * squares.shape[2])\n",
    "end_of_training_data = -30\n",
    "classifier_1.fit(reshaped_squares[:end_of_training_data], labels[:end_of_training_data])\n",
    "prediction = classifier_1.predict(reshaped_squares[end_of_training_data:])\n",
    "print(f'Predictions: {prediction}')\n",
    "print(f'Labels:      {labels[end_of_training_data:]}')"
   ]
  },
  {
   "cell_type": "code",
   "execution_count": 7,
   "id": "49e0a089-1366-45bd-8003-6ddeb655cc25",
   "metadata": {},
   "outputs": [
    {
     "name": "stdout",
     "output_type": "stream",
     "text": [
      "\n",
      "\n",
      "\n",
      "\n",
      "\n",
      "\n",
      "\n",
      "\n",
      "\n",
      "\n",
      "\n",
      "\n",
      "\n",
      "\n",
      "\n",
      "\n",
      "\n",
      "\n",
      "\n",
      "\n",
      "\n",
      "\n",
      "\n",
      "\n",
      "\n",
      "\n",
      "\n",
      "\n",
      "\n",
      "\n",
      "\n",
      "\n",
      "\n",
      "\n",
      "\n",
      "\n",
      "\n",
      "\n",
      "\n",
      "\n",
      "\n",
      "\n",
      "\n",
      "\n",
      "\n",
      "\n",
      "\n",
      "\n",
      "\n",
      "\n",
      "\n",
      "\n",
      "\n",
      "\n",
      "\n",
      "\n",
      "\n",
      "\n",
      "\n",
      "\n",
      "\n",
      "\n",
      "\n",
      "\n",
      "\n",
      "\n",
      "\n",
      "\n",
      "\n",
      "\n",
      "\n",
      "\n",
      "\n",
      "\n",
      "\n",
      "\n",
      "\n",
      "\n",
      "\n",
      "\n",
      "\n",
      "\n",
      "\n",
      "\n",
      "\n",
      "\n",
      "\n",
      "\n",
      "\n",
      "\n",
      "\n",
      "\n",
      "\n",
      "\n",
      "\n",
      "\n",
      "\n",
      "\n",
      "\n",
      "\n",
      "\n"
     ]
    }
   ],
   "source": [
    "print('\\n' * 100)"
   ]
  }
 ],
 "metadata": {
  "kernelspec": {
   "display_name": "Python 3 (ipykernel)",
   "language": "python",
   "name": "python3"
  },
  "language_info": {
   "codemirror_mode": {
    "name": "ipython",
    "version": 3
   },
   "file_extension": ".py",
   "mimetype": "text/x-python",
   "name": "python",
   "nbconvert_exporter": "python",
   "pygments_lexer": "ipython3",
   "version": "3.11.6"
  }
 },
 "nbformat": 4,
 "nbformat_minor": 5
}
